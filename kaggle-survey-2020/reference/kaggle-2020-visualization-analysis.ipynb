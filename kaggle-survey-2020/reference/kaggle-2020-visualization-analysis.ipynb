{
 "cells": [
  {
   "cell_type": "markdown",
   "metadata": {},
   "source": [
    "# 출처 : [Kaggle 2020] Visualization & Analysis\n",
    "### https://www.kaggle.com/subinium/kaggle-2020-visualization-analysis/notebook"
   ]
  },
  {
   "cell_type": "markdown",
   "metadata": {},
   "source": [
    "## Visualization & Analysis\n",
    "\n",
    "Hello. I'm Kaggler, who was on the upvote rankings last year with interactive visualization.\n",
    "\n",
    "This time, I'll show you the beauty of ordinary visualization."
   ]
  },
  {
   "cell_type": "code",
   "execution_count": null,
   "metadata": {
    "_kg_hide-input": true,
    "_kg_hide-output": true
   },
   "outputs": [],
   "source": [
    "!pip install seaborn==0.11"
   ]
  },
  {
   "cell_type": "code",
   "execution_count": null,
   "metadata": {
    "_cell_guid": "b1076dfc-b9ad-4769-8c92-a6c4dae69d19",
    "_kg_hide-input": true,
    "_uuid": "8f2839f25d086af736a60e9eeb907d3b93b6e0e5"
   },
   "outputs": [],
   "source": [
    "import numpy as np\n",
    "import pandas as pd\n",
    "import matplotlib as mpl\n",
    "import matplotlib.pyplot as plt\n",
    "import matplotlib.patches as mpatches\n",
    "import matplotlib.gridspec as gridspec \n",
    "\n",
    "from matplotlib.offsetbox import AnchoredText\n",
    "from mpl_toolkits.axes_grid1 import make_axes_locatable\n",
    "\n",
    "import seaborn as sns\n",
    "import warnings\n",
    "warnings.filterwarnings(action='ignore')\n",
    "plt.rcParams['figure.dpi'] = 200 #high resolution"
   ]
  },
  {
   "cell_type": "code",
   "execution_count": null,
   "metadata": {
    "_cell_guid": "79c7e3d0-c299-4dcb-8224-4455121ee9b0",
    "_kg_hide-input": true,
    "_uuid": "d629ff2d2480ee46fbb7e2d37f6b5fab8052498a"
   },
   "outputs": [],
   "source": [
    "data = pd.read_csv('/kaggle/input/kaggle-survey-2020/kaggle_survey_2020_responses.csv')\n",
    "questions = data.iloc[0, :].T\n",
    "data = data.iloc[1:, :]\n"
   ]
  },
  {
   "cell_type": "markdown",
   "metadata": {},
   "source": [
    "## Q1 & Q2. Age/Gender Distribution"
   ]
  },
  {
   "cell_type": "code",
   "execution_count": null,
   "metadata": {
    "_kg_hide-input": true
   },
   "outputs": [],
   "source": [
    "# Q1 & Q2 Analysis\n",
    "fig, ax = plt.subplots(1,1, figsize=(15, 6))\n",
    "data_q1 = data['Q1'].value_counts().sort_index()\n",
    "ax.bar(data_q1.index, data_q1, width=0.55, \n",
    "       edgecolor='darkgray', color='#d4dddd',\n",
    "       linewidth=0.7)\n",
    "\n",
    "for i in data_q1.index:\n",
    "    ax.annotate(f\"{data_q1[i]}\", \n",
    "                   xy=(i, data_q1[i] + 100),\n",
    "                   va = 'center', ha='center',fontweight='light', fontfamily='serif',\n",
    "                   color='#4a4a4a')\n",
    "\n",
    "\n",
    "for s in ['top', 'left', 'right']:\n",
    "    ax.spines[s].set_visible(False)\n",
    "\n",
    "ax.set_ylim(0, 4200)    \n",
    "ax.set_xticklabels(data_q1.index, fontfamily='serif')\n",
    "ax.set_yticklabels(np.arange(0, 4001, 500),fontfamily='serif')\n",
    "fig.text(0.1, 0.95, 'Age Distribution', fontsize=15, fontweight='bold', fontfamily='serif')    \n",
    "ax.grid(axis='y', linestyle='-', alpha=0.4)    \n",
    "plt.show()"
   ]
  },
  {
   "cell_type": "markdown",
   "metadata": {},
   "source": [
    "You can see that more than half of the total is under 30."
   ]
  },
  {
   "cell_type": "code",
   "execution_count": null,
   "metadata": {
    "_kg_hide-input": true
   },
   "outputs": [],
   "source": [
    "# Q2 Analysis\n",
    "data['Q2'] = data['Q2'].apply(lambda x : 'ETC' if x not in ['Man', 'Woman'] else x)\n",
    "data_q1q2 = data[data['Q2'] != 'ETC'].groupby(['Q2'])['Q1'].value_counts().unstack().sort_index()\n",
    "man = data_q1q2.loc['Man']\n",
    "woman = -data_q1q2.loc['Woman']\n",
    "\n",
    "fig, ax = plt.subplots(1,1, figsize=(15, 6))\n",
    "ax.bar(man.index, man, width=0.55, color='#004c70', alpha=0.8, label='Male')\n",
    "ax.bar(woman.index, woman, width=0.55, color='#990000', alpha=0.8, label='Female')\n",
    "ax.set_ylim(-1200, 3500)\n",
    "\n",
    "for i in man.index:\n",
    "    ax.annotate(f\"{man[i]}\", \n",
    "                   xy=(i, man[i] + 100),\n",
    "                   va = 'center', ha='center',fontweight='light', fontfamily='serif',\n",
    "                   color='#4a4a4a')\n",
    "    \n",
    "for i in woman.index:\n",
    "    ax.annotate(f\"{-woman[i]}\", \n",
    "                   xy=(i, woman[i] - 100),\n",
    "                   va = 'center', ha='center',fontweight='light', fontfamily='serif',\n",
    "                   color='#4a4a4a')    \n",
    "\n",
    "for s in ['top', 'left', 'right', 'bottom']:\n",
    "    ax.spines[s].set_visible(False)\n",
    "\n",
    "ax.set_xticklabels(data_q1q2.columns, fontfamily='serif')\n",
    "ax.set_yticks([])    \n",
    "ax.legend()\n",
    "fig.text(0.16, 0.95, 'Age / Gender Distribution', fontsize=15, fontweight='bold', fontfamily='serif')    \n",
    "plt.show()"
   ]
  },
  {
   "cell_type": "markdown",
   "metadata": {},
   "source": [
    "Obviously, I felt that there was a lot of influx of women, but I can see that there are still few."
   ]
  },
  {
   "cell_type": "markdown",
   "metadata": {},
   "source": [
    "## Q2 & Q3. Gender & Country"
   ]
  },
  {
   "cell_type": "code",
   "execution_count": null,
   "metadata": {
    "_kg_hide-input": true
   },
   "outputs": [],
   "source": [
    "q3_order = data['Q3'].value_counts()[:11].drop('Other').index\n",
    "data_q2q3 = data[['Q2', 'Q3']].groupby('Q3')['Q2'].value_counts().unstack().loc[q3_order]\n",
    "data_q2q3['sum'] = data_q2q3.sum(axis=1)\n",
    "data_q2q3_ratio = (data_q2q3.T / data_q2q3['sum']).T[['Man', 'Woman', 'ETC']].rename(index={'United States of America':'USA', 'United Kingdom of Great Britain and Northern Ireland': 'UK'})[::-1]"
   ]
  },
  {
   "cell_type": "code",
   "execution_count": null,
   "metadata": {
    "_kg_hide-input": true
   },
   "outputs": [],
   "source": [
    "fig, ax = plt.subplots(1,1,figsize=(12, 6),)\n",
    "\n",
    "ax.barh(data_q2q3_ratio.index, data_q2q3_ratio['Man'], \n",
    "        color='#004c70', alpha=0.7, label='Man')\n",
    "ax.barh(data_q2q3_ratio.index, data_q2q3_ratio['Woman'], left=data_q2q3_ratio['Man'], \n",
    "        color='#990000', alpha=0.7, label='Woman')\n",
    "ax.barh(data_q2q3_ratio.index, data_q2q3_ratio['ETC'], left=data_q2q3_ratio['Man']+data_q2q3_ratio['Woman'], \n",
    "        color='#4a4a4a', alpha=0.7, label='ETC')\n",
    "\n",
    "ax.set_xlim(0, 1)\n",
    "ax.set_xticks([])\n",
    "ax.set_yticklabels(data_q2q3_ratio.index, fontfamily='serif', fontsize=11)\n",
    "\n",
    "# male percentage\n",
    "for i in data_q2q3_ratio.index:\n",
    "    ax.annotate(f\"{data_q2q3_ratio['Man'][i]*100:.3}%\", \n",
    "                   xy=(data_q2q3_ratio['Man'][i]/2, i),\n",
    "                   va = 'center', ha='center',fontsize=9, fontweight='light', fontfamily='serif',\n",
    "                   color='white')\n",
    "\n",
    "for i in data_q2q3_ratio.index:\n",
    "    ax.annotate(f\"{data_q2q3_ratio['Woman'][i]*100:.3}%\", \n",
    "                   xy=(data_q2q3_ratio['Man'][i]+data_q2q3_ratio['Woman'][i]/2, i),\n",
    "                   va = 'center', ha='center',fontsize=9, fontweight='light', fontfamily='serif',\n",
    "                   color='white')\n",
    "    \n",
    "\n",
    "fig.text(0.13, 0.95, 'Top10 Country : Gender Distribution', fontsize=15, fontweight='bold', fontfamily='serif')   \n",
    "fig.text(0.131, 0.91, 'Percent Stacked Bar Chart', fontsize=12,fontfamily='serif')   \n",
    "\n",
    "for s in ['top', 'left', 'right', 'bottom']:\n",
    "    ax.spines[s].set_visible(False)\n",
    "    \n",
    "ax.legend(loc='lower center', ncol=3, bbox_to_anchor=(0.5, -0.06))\n",
    "plt.show()"
   ]
  },
  {
   "cell_type": "markdown",
   "metadata": {},
   "source": [
    "Gender ratio for the top 10 countries in the number of responses.\n",
    "\n",
    "You can see that the number of women is still very short. \n",
    "\n",
    "In particular, in Japan, only 6.5% are women."
   ]
  },
  {
   "cell_type": "markdown",
   "metadata": {},
   "source": [
    " ## Q4 & Q6. Degree / Experience\n",
    " "
   ]
  },
  {
   "cell_type": "code",
   "execution_count": null,
   "metadata": {
    "_kg_hide-input": true
   },
   "outputs": [],
   "source": [
    "q4_order = [\n",
    "    'No formal education past high school',\n",
    "    'Professional degree',\n",
    "    'Some college/university study without earning a bachelor’s degree',\n",
    "    'Bachelor’s degree',\n",
    "    'Master’s degree',\n",
    "    'Doctoral degree',\n",
    "    'I prefer not to answer'\n",
    "]\n",
    "\n",
    "data_q4 = data['Q4'].value_counts()[q4_order]\n",
    "\n",
    "fig, ax = plt.subplots(1,1, figsize=(12, 6))\n",
    "ax.bar(data_q4.index, data_q4, width=0.55, \n",
    "       edgecolor='darkgray', color=sns.color_palette(\"crest\", 7),\n",
    "       linewidth=0.7)\n",
    "\n",
    "for i in data_q4.index:\n",
    "    ax.annotate(f\"{data_q4[i]}\", \n",
    "                   xy=(i, data_q4[i] + 300),\n",
    "                   va = 'center', ha='center',fontweight='light', fontfamily='serif',\n",
    "                   color='#4a4a4a')\n",
    "\n",
    "\n",
    "for s in ['top', 'left', 'right']:\n",
    "    ax.spines[s].set_visible(False)\n",
    "\n",
    "ax.set_xticklabels(data_q4.index, fontfamily='serif', rotation=90)\n",
    "fig.text(0.09, 0.95, 'Education Distribution', fontsize=15, fontweight='bold', fontfamily='serif')    \n",
    "ax.grid(axis='y', linestyle='-', alpha=0.4)    \n",
    "plt.show()"
   ]
  },
  {
   "cell_type": "markdown",
   "metadata": {},
   "source": [
    "I thought there would be the most bachelors, but there are the most masters."
   ]
  },
  {
   "cell_type": "code",
   "execution_count": null,
   "metadata": {
    "_kg_hide-input": true
   },
   "outputs": [],
   "source": [
    "q6_order = [\n",
    "      'I have never written code', '< 1 years', '1-2 years', '3-5 years', '5-10 years', '10-20 years', '20+ years',\n",
    "]\n",
    "\n",
    "data_q6 = data['Q6'].value_counts()[q6_order]\n",
    "\n",
    "fig, ax = plt.subplots(1,1, figsize=(12, 6))\n",
    "ax.bar(data_q6.index, data_q6, width=0.55, \n",
    "       edgecolor='darkgray', color=sns.color_palette(\"crest\", 7),\n",
    "       linewidth=0.6)\n",
    "\n",
    "for i in data_q6.index:\n",
    "    ax.annotate(f\"{data_q6[i]}\", \n",
    "                   xy=(i, data_q6[i] + 100),\n",
    "                   va = 'center', ha='center',fontweight='light', fontfamily='serif',\n",
    "                   color='#4a4a4a')\n",
    "\n",
    "\n",
    "for s in ['top', 'left', 'right']:\n",
    "    ax.spines[s].set_visible(False)\n",
    "\n",
    "ax.set_xticklabels(data_q6.index, fontfamily='serif', rotation=90)\n",
    "\n",
    "fig.text(0.09, 0.95, 'Experience Distribution', fontsize=15, fontweight='bold', fontfamily='serif')    \n",
    "ax.grid(axis='y', linestyle='-', alpha=0.4)    \n",
    "plt.show()"
   ]
  },
  {
   "cell_type": "markdown",
   "metadata": {},
   "source": [
    "About 75% have less than 5 years of experience and 25% have more than 5 years.\n",
    "\n",
    "This time, let's look at the two questions at once."
   ]
  },
  {
   "cell_type": "code",
   "execution_count": null,
   "metadata": {
    "_kg_hide-input": true
   },
   "outputs": [],
   "source": [
    "data['count'] = 1\n",
    "fig, ax = plt.subplots(1, 1, figsize=(12, 12))\n",
    "sns.heatmap(pd.pivot_table(data, values='count', index=['Q6'], columns=['Q4'], aggfunc=np.sum).loc[q6_order, q4_order], \n",
    "            cmap=\"YlGnBu\",\n",
    "            square=True, \n",
    "            linewidth=2.5, \n",
    "            cbar=False, \n",
    "            ax=ax,\n",
    "            annot=True,\n",
    "            fmt=\"d\"\n",
    "           )\n",
    "\n",
    "ax.spines['top'].set_visible(True)\n",
    "\n",
    "fig.text(0.48, 1, 'Pivot Table : Education & Experience', fontweight='bold', fontfamily='serif', fontsize=15)   \n",
    "\n",
    "ax.set_yticklabels(ax.get_yticklabels(), fontfamily='serif', rotation = 0, fontsize=11)\n",
    "ax.set_xticklabels(ax.get_xticklabels(), fontfamily='serif', rotation=90, fontsize=11)\n",
    "\n",
    "plt.tight_layout()\n",
    "plt.show()"
   ]
  },
  {
   "cell_type": "markdown",
   "metadata": {},
   "source": [
    "The most common is a 1-2 year bachelor's degree and a 3-5 year graduate."
   ]
  },
  {
   "cell_type": "markdown",
   "metadata": {},
   "source": [
    "## Q14. Visualization Library "
   ]
  },
  {
   "cell_type": "code",
   "execution_count": null,
   "metadata": {
    "_kg_hide-input": true
   },
   "outputs": [],
   "source": [
    "data_q14 = data[[i for i in data.columns if 'Q14' in i]]\n",
    "data_q14_count = pd.Series(dtype='int')\n",
    "for i in data_q14.columns:\n",
    "    data_q14_count[data_q14[i].value_counts().index[0]] = data_q14[i].count()\n",
    "    \n",
    "# Q14\n",
    "\n",
    "colors = ['lightgray'] * 14 \n",
    "colors[0] = colors[1] = colors[3] = '#02080F'\n",
    "colors[2] = colors[4] = colors[6] = colors[7] = '#522e75'\n",
    "colors[8] = colors[9] = '#714e3d'\n",
    "\n",
    "fig, ax = plt.subplots(1,1, figsize=(15, 6))\n",
    "ax.bar(data_q14_count.index, data_q14_count, width=0.55, \n",
    "       edgecolor='darkgray', color=colors,\n",
    "       linewidth=0.7)\n",
    "\n",
    "for i in data_q14_count.index:\n",
    "    ax.annotate(f\"{data_q14_count[i]}\", \n",
    "                   xy=(i, data_q14_count[i] + 500),\n",
    "                   va = 'center', ha='center',fontweight='light', fontfamily='serif',\n",
    "                   color='#4a4a4a')\n",
    "\n",
    "\n",
    "for s in ['top', 'left', 'right']:\n",
    "    ax.spines[s].set_visible(False)\n",
    "\n",
    "ax.set_xticklabels(data_q14_count.index, fontfamily='serif', rotation=40)\n",
    "fig.text(0.13, 0.95, 'Visualization Library', fontsize=15, fontweight='bold', fontfamily='serif')    \n",
    "ax.grid(axis='y', linestyle='-', alpha=0.4)    \n",
    "\n",
    "static = mpatches.Patch(color='#02080F', label='static')\n",
    "interactive = mpatches.Patch(color='#522e75', label='interactive')\n",
    "geo = mpatches.Patch(color='#714e3d', label='geospatial')\n",
    "\n",
    "plt.legend(handles=[static, interactive, geo], fontsize=13)\n",
    "\n",
    "plt.show()"
   ]
  },
  {
   "cell_type": "markdown",
   "metadata": {},
   "source": [
    "1. The most basic library, matplotlib, is used the most.\n",
    "2. Plotly is the most used for interactive visualization.\n",
    "3. It is unfortunate that the number of geovisualization libraries is insufficient. \n",
    "    - Folium is still less used than Geoplotlib.\n",
    "4. There are more d3 users than I think. Is there any reason to use d3 even though it is ML unfriendly?"
   ]
  },
  {
   "cell_type": "markdown",
   "metadata": {},
   "source": [
    "## Q2 & Q5 & Q15. Gender / Position / ML Experience"
   ]
  },
  {
   "cell_type": "code",
   "execution_count": null,
   "metadata": {
    "_kg_hide-input": true
   },
   "outputs": [],
   "source": [
    "q5_order = ['Business Analyst'\n",
    " ,'Data Analyst'\n",
    " ,'Data Engineer'\n",
    " ,'Data Scientist'\n",
    " ,'DBA/Database Engineer'\n",
    " ,'Machine Learning Engineer'\n",
    " ,'Product/Project Manager'\n",
    " ,'Research Scientist'\n",
    " ,'Software Engineer'\n",
    " ,'Statistician'\n",
    " ,'Student'\n",
    " ,'Currently not employed'\n",
    " ,'Other']\n",
    "\n",
    "q15_order = [\n",
    "    'I do not use machine learning methods'\n",
    "    ,'Under 1 year'\n",
    "    ,'1-2 years'\n",
    "    ,'2-3 years'\n",
    "    ,'3-4 years'\n",
    "    ,'4-5 years'\n",
    "    ,'5-10 years'\n",
    "    ,'10-20 years'\n",
    "    ,'20 or more years']\n",
    "\n",
    "\n",
    "\n",
    "data_q5q15 = pd.pivot_table(data, values='count', index=['Q5'], columns=['Q15'], aggfunc=np.sum).fillna(0).astype(int).loc[q5_order, q15_order].stack()\n",
    "data_q5q15_man = pd.pivot_table(data[data['Q2']=='Man'], values='count', index=['Q5'], columns=['Q15'], aggfunc=np.sum).fillna(0).astype(int).loc[q5_order, q15_order].stack()\n",
    "data_q5q15_woman = pd.pivot_table(data[data['Q2']=='Woman'], values='count', index=['Q5'], columns=['Q15'], aggfunc=np.sum).fillna(0).astype(int).loc[q5_order, q15_order].stack()"
   ]
  },
  {
   "cell_type": "code",
   "execution_count": null,
   "metadata": {
    "_kg_hide-input": true
   },
   "outputs": [],
   "source": [
    "# https://stackoverflow.com/questions/56337732/how-to-plot-scatter-pie-chart-using-matplotlib\n",
    "def drawPieMarker(xs, ys, ratios, sizes, colors, ax):\n",
    "    markers = []\n",
    "    previous = 0\n",
    "    # calculate the points of the pie pieces\n",
    "    for color, ratio in zip(colors, ratios):\n",
    "        this = 2 * np.pi * ratio + previous\n",
    "        x  = [0] + np.cos(np.linspace(previous, this, 30)).tolist() + [0]\n",
    "        y  = [0] + np.sin(np.linspace(previous, this, 30)).tolist() + [0]\n",
    "        xy = np.column_stack([x, y])\n",
    "        previous = this\n",
    "        markers.append({'marker':xy, 's':np.abs(xy).max()**2*np.array(sizes), 'facecolor':color})\n",
    "\n",
    "    # scatter each of the pie pieces to create pies\n",
    "    for marker in markers:\n",
    "        ax.scatter(xs, ys, **marker, alpha=0.7)"
   ]
  },
  {
   "cell_type": "code",
   "execution_count": null,
   "metadata": {
    "_kg_hide-input": true
   },
   "outputs": [],
   "source": [
    "\n",
    "fig = plt.figure(figsize=(20, 23), dpi=200)\n",
    "\n",
    "gs = fig.add_gridspec(5, 5)\n",
    "\n",
    "\n",
    "\n",
    "ax_plot = fig.add_subplot(gs[1:4, 0:4]) \n",
    "for q5_idx in q5_order[::-1]:\n",
    "    for q15_idx in q15_order:\n",
    "        man = data_q5q15_man[q5_idx][q15_idx]\n",
    "        woman = data_q5q15_woman[q5_idx][q15_idx]\n",
    "        tot = data_q5q15[q5_idx][q15_idx]\n",
    "        drawPieMarker([q15_idx],[q5_idx], [man/(man+woman), woman/(man+woman)] ,[tot*2.5], ['#004c70', '#990000'], ax=ax_plot)\n",
    "\n",
    "ax_plot.grid(linewidth=0.2, zorder=0)        \n",
    "\n",
    "ax_plot.set_yticklabels(q5_idx, fontfamily='serif', fontsize=15)\n",
    "ax_plot.set_xticklabels(q15_idx, fontfamily='serif', fontsize=15, rotation=90)\n",
    "\n",
    "# Pos\n",
    "ax_pos = fig.add_subplot(gs[0, :4], sharex=ax_plot) \n",
    "data_q15_woman = data[data['Q2']=='Woman']['Q15'].value_counts()[q15_order]\n",
    "ax_pos.bar(data_q15_woman.index, data_q15_woman, width=0.45, alpha=0.7, color='#990000')\n",
    "\n",
    "data_q15_man = data[data['Q2']=='Man']['Q15'].value_counts()[q15_order]\n",
    "ax_pos.bar(data_q15_man.index, data_q15_man, bottom=data_q15_woman , width=0.45, alpha=0.7, color='#004c70')\n",
    "\n",
    "plt.setp(ax_pos.get_xticklabels(), visible=False)\n",
    "\n",
    "\n",
    "# Exp\n",
    "ax_exp = fig.add_subplot(gs[1:4, 4], sharey=ax_plot) \n",
    "\n",
    "data_q5_woman = data[data['Q2']=='Woman']['Q5'].value_counts()[q5_order]\n",
    "ax_exp.barh(data_q5_woman.index[::-1], data_q5_woman[::-1], height=0.55, alpha=0.7, color='#990000')\n",
    "\n",
    "data_q5_man = data[data['Q2']=='Man']['Q5'].value_counts()[q5_order]\n",
    "ax_exp.barh(data_q5_man.index[::-1], data_q5_man[::-1], left= data_q5_woman[::-1],height=0.55, alpha=0.7, color='#004c70')\n",
    "\n",
    "plt.setp(ax_exp.get_yticklabels(), visible=False)\n",
    "\n",
    "# Spines\n",
    "for s in ['top', 'left', 'right', 'bottom']:\n",
    "    ax_plot.spines[s].set_visible(False)\n",
    "    ax_pos.spines[s].set_visible(False)\n",
    "    ax_exp.spines[s].set_visible(False)\n",
    "    \n",
    "\n",
    "fig.text(0.8, 0.9, 'Gender & Position & ML Experience', fontweight='bold', fontfamily='serif', fontsize=35, ha='right') \n",
    "fig.text(0.8, 0.88, 'Stacked Bar Chart + Categorical Bubble Pie Chart', fontweight='light', fontfamily='serif', fontsize=20, ha='right')\n",
    "# plt.tight_layout()\n",
    "plt.show()"
   ]
  },
  {
   "cell_type": "markdown",
   "metadata": {},
   "source": [
    "Those with short careers had a particularly high percentage of women.\n",
    "\n",
    "Although it is still insufficient, it can be seen that the number of female ML developers is increasing compared to the past.\n",
    "\n"
   ]
  },
  {
   "cell_type": "code",
   "execution_count": null,
   "metadata": {
    "_kg_hide-input": true
   },
   "outputs": [],
   "source": [
    "fig = plt.figure(figsize=(20, 23), dpi=200)\n",
    "\n",
    "gs = fig.add_gridspec(5, 5)\n",
    "\n",
    "\n",
    "\n",
    "ax_plot = fig.add_subplot(gs[1:4, 0:4]) \n",
    "for q5_idx in q5_order[::-1]:\n",
    "    for q15_idx in q15_order:\n",
    "        man = data_q5q15_man[q5_idx][q15_idx]\n",
    "#         woman = data_q5q15_woman[q5_idx][q15_idx]\n",
    "        ax_plot.scatter(q15_idx, q5_idx, s=man, color='#004c70')\n",
    "\n",
    "\n",
    "ax_plot.grid(linewidth=0.2, zorder=0)        \n",
    "\n",
    "ax_plot.set_yticklabels(q5_idx, fontfamily='serif', fontsize=15)\n",
    "ax_plot.set_xticklabels(q15_idx, fontfamily='serif', fontsize=15, rotation=90)\n",
    "\n",
    "# Pos\n",
    "ax_pos = fig.add_subplot(gs[0, :4], sharex=ax_plot) \n",
    "data_q15_woman = data[data['Q2']=='Man']['Q15'].value_counts()[q15_order]\n",
    "ax_pos.bar(data_q15_woman.index, data_q15_woman, width=0.45, alpha=0.7, color='#004c70')\n",
    "\n",
    "plt.setp(ax_pos.get_xticklabels(), visible=False)\n",
    "\n",
    "\n",
    "# Exp\n",
    "ax_exp = fig.add_subplot(gs[1:4, 4], sharey=ax_plot) \n",
    "\n",
    "data_q5_woman = data[data['Q2']=='Man']['Q5'].value_counts()[q5_order]\n",
    "ax_exp.barh(data_q5_woman.index[::-1], data_q5_woman[::-1], height=0.55, alpha=0.7, color='#004c70')\n",
    "\n",
    "plt.setp(ax_exp.get_yticklabels(), visible=False)\n",
    "\n",
    "# Spines\n",
    "for s in ['top', 'left', 'right', 'bottom']:\n",
    "    ax_plot.spines[s].set_visible(False)\n",
    "    ax_pos.spines[s].set_visible(False)\n",
    "    ax_exp.spines[s].set_visible(False)\n",
    "    \n",
    "\n",
    "fig.text(0.8, 0.9, '[Man] Position & ML Experience', fontweight='bold', fontfamily='serif', fontsize=35, ha='right') \n",
    "fig.text(0.8, 0.88, 'Stacked Bar Chart + Categorical Bubble Pie Chart', fontweight='light', fontfamily='serif', fontsize=20, ha='right')\n",
    "# plt.tight_layout()\n",
    "plt.show()"
   ]
  },
  {
   "cell_type": "code",
   "execution_count": null,
   "metadata": {
    "_kg_hide-input": true
   },
   "outputs": [],
   "source": [
    "\n",
    "fig = plt.figure(figsize=(20, 23), dpi=200)\n",
    "\n",
    "gs = fig.add_gridspec(5, 5)\n",
    "\n",
    "\n",
    "\n",
    "ax_plot = fig.add_subplot(gs[1:4, 0:4]) \n",
    "for q5_idx in q5_order[::-1]:\n",
    "    for q15_idx in q15_order:\n",
    "#         man = data_q5q15_man[q5_idx][q15_idx]\n",
    "        woman = data_q5q15_woman[q5_idx][q15_idx]\n",
    "        ax_plot.scatter(q15_idx, q5_idx, s=woman*3, color='#990000')\n",
    "\n",
    "\n",
    "ax_plot.grid(linewidth=0.2, zorder=0)        \n",
    "\n",
    "ax_plot.set_yticklabels(q5_idx, fontfamily='serif', fontsize=15)\n",
    "ax_plot.set_xticklabels(q15_idx, fontfamily='serif', fontsize=15, rotation=90)\n",
    "\n",
    "# Pos\n",
    "ax_pos = fig.add_subplot(gs[0, :4], sharex=ax_plot) \n",
    "data_q15_woman = data[data['Q2']=='Woman']['Q15'].value_counts()[q15_order]\n",
    "ax_pos.bar(data_q15_woman.index, data_q15_woman, width=0.45, alpha=0.7, color='#990000')\n",
    "\n",
    "plt.setp(ax_pos.get_xticklabels(), visible=False)\n",
    "\n",
    "\n",
    "# Exp\n",
    "ax_exp = fig.add_subplot(gs[1:4, 4], sharey=ax_plot) \n",
    "\n",
    "data_q5_woman = data[data['Q2']=='Woman']['Q5'].value_counts()[q5_order]\n",
    "ax_exp.barh(data_q5_woman.index[::-1], data_q5_woman[::-1], height=0.55, alpha=0.7, color='#990000')\n",
    "\n",
    "plt.setp(ax_exp.get_yticklabels(), visible=False)\n",
    "\n",
    "# Spines\n",
    "for s in ['top', 'left', 'right', 'bottom']:\n",
    "    ax_plot.spines[s].set_visible(False)\n",
    "    ax_pos.spines[s].set_visible(False)\n",
    "    ax_exp.spines[s].set_visible(False)\n",
    "    \n",
    "\n",
    "fig.text(0.8, 0.9, '[Woman] Position & ML Experience', fontweight='bold', fontfamily='serif', fontsize=35, ha='right') \n",
    "fig.text(0.8, 0.88, 'Stacked Bar Chart + Categorical Bubble Pie Chart', fontweight='light', fontfamily='serif', fontsize=20, ha='right')\n",
    "# plt.tight_layout()\n",
    "plt.show()"
   ]
  },
  {
   "cell_type": "markdown",
   "metadata": {},
   "source": [
    "## Q24. Compensation"
   ]
  },
  {
   "cell_type": "code",
   "execution_count": null,
   "metadata": {
    "_kg_hide-input": true
   },
   "outputs": [],
   "source": [
    "q24_order = ['$0-999', '1,000-1,999', '2,000-2,999', '3,000-3,999', '4,000-4,999', '5,000-7,499', '7,500-9,999',\n",
    "'10,000-14,999','15,000-19,999', '20,000-24,999', '25,000-29,999', '30,000-39,999', '40,000-49,999', '50,000-59,999', '60,000-69,999', '70,000-79,999', '80,000-89,999', '90,000-99,999',\n",
    "'100,000-124,999', '125,000-149,999',  '150,000-199,999', '200,000-249,999',  '250,000-299,999', '300,000-500,000', '> $500,000']\n",
    "\n",
    "data_q24 = data['Q24'].value_counts()[q24_order]"
   ]
  },
  {
   "cell_type": "code",
   "execution_count": null,
   "metadata": {
    "_kg_hide-input": true
   },
   "outputs": [],
   "source": [
    "fig, ax = plt.subplots(1,1, figsize=(20, 6), dpi=200)\n",
    "ax.bar(data_q24.index, data_q24, width=0.55, \n",
    "       edgecolor='black', color=sns.light_palette(\"seagreen\", len(data_q24)),\n",
    "       linewidth=0.6)\n",
    "\n",
    "ax.plot(data_q24.index, data_q24, c='k', linewidth=0.6)\n",
    "\n",
    "for i in data_q24.index:\n",
    "    ax.annotate(f\"{data_q24[i]/data_q24.sum()*100:.2f}%\", \n",
    "                   xy=(i, data_q24[i] + 100),\n",
    "                   va = 'center', ha='center',fontweight='light', fontfamily='serif',\n",
    "                   color='#2a2a2a')\n",
    "\n",
    "\n",
    "for s in ['top', 'left', 'right']:\n",
    "    ax.spines[s].set_visible(False)\n",
    "\n",
    "ax.set_xticklabels(data_q24.index, fontfamily='serif', rotation=90)\n",
    "\n",
    "fig.text(0.13, 0.97, 'Earn Distribution', fontsize=15, fontweight='bold', fontfamily='serif')    \n",
    "ax.grid(axis='y', linestyle='-', alpha=0.4)    \n",
    "plt.show()"
   ]
  },
  {
   "cell_type": "markdown",
   "metadata": {},
   "source": [
    "It's an interesting phenomenon.\n",
    "\n",
    "Depending on the characteristics of the annual salary, a decreasing graph should be drawn, but it is not.\n",
    "\n",
    "If you look at the bouncing section (peak) now, there is a bouncing section at 1000, 5000, 10000, 30000, 100000 sections.\n",
    "\n",
    "I think this is an easy-to-conceive number when people survey.\n",
    "\n",
    "Later, I will analyze the relationship between salary and other factors."
   ]
  },
  {
   "cell_type": "code",
   "execution_count": null,
   "metadata": {
    "_kg_hide-input": true
   },
   "outputs": [],
   "source": [
    "# Q2 Analysis\n",
    "man = data[data['Q2']=='Man']['Q24'].value_counts()[q24_order]\n",
    "woman = -data[data['Q2']=='Woman']['Q24'].value_counts()[q24_order]\n",
    "\n",
    "fig, ax = plt.subplots(1,1, figsize=(15, 6))\n",
    "ax.bar(man.index, man, width=0.7, color='#004c70', alpha=0.8, label='Male')\n",
    "ax.bar(woman.index, woman, width=0.7, color='#990000', alpha=0.8, label='Female')\n",
    "ax.set_ylim(-700, 2000)\n",
    "\n",
    "for i in man.index:\n",
    "    ax.annotate(f\"{man[i]}\", \n",
    "                   xy=(i, man[i] + 100),\n",
    "                   va = 'center', ha='center',fontweight='light', fontfamily='serif',\n",
    "                   color='#4a4a4a')\n",
    "    \n",
    "for i in woman.index:\n",
    "    ax.annotate(f\"{-woman[i]}\", \n",
    "                   xy=(i, woman[i] - 100),\n",
    "                   va = 'center', ha='center',fontweight='light', fontfamily='serif',\n",
    "                   color='#4a4a4a')    \n",
    "\n",
    "for s in ['top', 'left', 'right', 'bottom']:\n",
    "    ax.spines[s].set_visible(False)\n",
    "\n",
    "ax.set_xticklabels(q24_order, fontfamily='serif', rotation=90)\n",
    "ax.set_yticks([])   \n",
    "ax.legend()\n",
    "fig.text(0.16, 0.95, 'Earn & Gender Distribution', fontsize=15, fontweight='bold', fontfamily='serif')    \n",
    "plt.show()"
   ]
  },
  {
   "cell_type": "code",
   "execution_count": null,
   "metadata": {
    "_kg_hide-input": true
   },
   "outputs": [],
   "source": [
    "data_q5q24 = pd.pivot_table(data, values='count', index=['Q5'], columns=['Q24'], aggfunc=np.sum).fillna(0).astype(int).loc[:,q24_order]\n",
    "\n",
    "data_q5q24 = (data_q5q24.T /data_q5q24.sum(axis=1)).cumsum()"
   ]
  },
  {
   "cell_type": "code",
   "execution_count": null,
   "metadata": {
    "_kg_hide-input": true
   },
   "outputs": [],
   "source": [
    "data_q5q24 = pd.pivot_table(data, values='count', index=['Q5'], columns=['Q24'], aggfunc=np.sum).fillna(0).astype(int).loc[:,q24_order]\n",
    "data_q5q24 = (data_q5q24.T /data_q5q24.sum(axis=1))#.rename(columns={'United States of America':'USA', 'United Kingdom of Great Britain and Northern Ireland': 'UK'})\n",
    "\n",
    "colors=sns.light_palette(\"seagreen\", len(data_q24))\n",
    "\n",
    "fig, ax = plt.subplots(6, 2,figsize=(15, 22), sharex=True)\n",
    "\n",
    "for idx, q5_idx in enumerate(data_q5q24.columns):\n",
    "\n",
    "\n",
    "    ax[idx%6][idx//6].bar(data_q5q24[q5_idx].index, data_q5q24[q5_idx], color=colors, edgecolor='black', linewidth=0.4, width=0.6)\n",
    "    ax[idx%6][idx//6].set_yticks([])\n",
    "    for s in ['top', 'bottom', 'left', 'right']:\n",
    "        ax[idx%6][idx//6].spines[s].set_linewidth(0.5)\n",
    "    \n",
    "    divider = make_axes_locatable(ax[idx%6][idx//6])\n",
    "    cax = divider.append_axes(\"top\", size=\"11%\", pad=0)\n",
    "    cax.get_xaxis().set_visible(False)\n",
    "    cax.get_yaxis().set_visible(False)\n",
    "    cax.set_facecolor('black')\n",
    "\n",
    "    at = AnchoredText(q5_idx, loc=10, \n",
    "                      prop=dict(backgroundcolor='black',\n",
    "                                size=12, color='white', weight='bold'))\n",
    "    cax.add_artist(at)\n",
    "    \n",
    "ax[-1][0].set_xticklabels(q24_order, fontfamily='serif', rotation=90)\n",
    "ax[-1][1].set_xticklabels(q24_order, fontfamily='serif', rotation=90)\n",
    "\n",
    "ax[-1][-1].set_visible(False)\n",
    "\n",
    "fig.suptitle('Job & Earn Distribution', fontsize=17, fontweight='bold', fontfamily='serif', y=1.03)\n",
    "\n",
    "plt.tight_layout()\n",
    "# plt.subplots_adjust(hspace=0.25)\n",
    "plt.show()"
   ]
  },
  {
   "cell_type": "code",
   "execution_count": null,
   "metadata": {
    "_kg_hide-input": true
   },
   "outputs": [],
   "source": [
    "data_q3q24 = pd.pivot_table(data, values='count', index=['Q3'], columns=['Q24'], aggfunc=np.sum).fillna(0).astype(int).loc[q3_order,q24_order]\n",
    "data_q3q24 = (data_q3q24.T /data_q3q24.sum(axis=1)).rename(columns={'United States of America':'USA', 'United Kingdom of Great Britain and Northern Ireland': 'UK'})\n",
    "\n",
    "fig, ax = plt.subplots(5, 2,figsize=(15, 22), sharex=True)\n",
    "\n",
    "for idx, q3_idx in enumerate(data_q3q24.columns):\n",
    "\n",
    "\n",
    "    ax[idx%5][idx//5].bar(data_q3q24[q3_idx].index, data_q3q24[q3_idx], color=colors, edgecolor='black', linewidth=0.4, width=0.6)\n",
    "    ax[idx%5][idx//5].set_yticks([])\n",
    "    for s in ['top', 'bottom', 'left', 'right']:\n",
    "        ax[idx%5][idx//5].spines[s].set_linewidth(0.5)\n",
    "    \n",
    "    divider = make_axes_locatable(ax[idx%5][idx//5])\n",
    "    cax = divider.append_axes(\"top\", size=\"11%\", pad=0)\n",
    "    cax.get_xaxis().set_visible(False)\n",
    "    cax.get_yaxis().set_visible(False)\n",
    "    cax.set_facecolor('black')\n",
    "\n",
    "    at = AnchoredText(q3_idx, loc=10, \n",
    "                      prop=dict(backgroundcolor='black',\n",
    "                                size=12, color='white', weight='bold'))\n",
    "    cax.add_artist(at)\n",
    "    \n",
    "ax[-1][0].set_xticklabels(q24_order, fontfamily='serif', rotation=90)\n",
    "ax[-1][1].set_xticklabels(q24_order, fontfamily='serif', rotation=90)\n",
    "\n",
    "fig.suptitle('Country & Earn Distribution', fontsize=17, fontweight='bold', fontfamily='serif', y=1.03)\n",
    "\n",
    "plt.tight_layout()\n",
    "# plt.subplots_adjust(hspace=0.25)\n",
    "plt.show()"
   ]
  },
  {
   "cell_type": "markdown",
   "metadata": {},
   "source": [
    "- UK, USA, Germany"
   ]
  },
  {
   "cell_type": "code",
   "execution_count": null,
   "metadata": {
    "_kg_hide-input": true
   },
   "outputs": [],
   "source": [
    "data_q6q24 = pd.pivot_table(data, values='count', index=['Q6'], columns=['Q24'], aggfunc=np.sum).fillna(0).astype(int).loc[q6_order,q24_order]\n",
    "data_q6q24 = (data_q6q24.T /data_q6q24.sum(axis=1))#.rename(columns={'United States of America':'USA', 'United Kingdom of Great Britain and Northern Ireland': 'UK'})\n",
    "\n",
    "fig, ax = plt.subplots(4, 2,figsize=(15, 15), sharex=True)\n",
    "\n",
    "for idx, q6_idx in enumerate(data_q6q24.columns):\n",
    "\n",
    "\n",
    "    ax[idx%4][idx//4].bar(data_q6q24[q6_idx].index, data_q6q24[q6_idx], color=colors, edgecolor='black', linewidth=0.4, width=0.6)\n",
    "    ax[idx%4][idx//4].set_yticks([])\n",
    "    for s in ['top', 'bottom', 'left', 'right']:\n",
    "        ax[idx%4][idx//4].spines[s].set_linewidth(0.5)\n",
    "    \n",
    "    divider = make_axes_locatable(ax[idx%4][idx//4])\n",
    "    cax = divider.append_axes(\"top\", size=\"11%\", pad=0)\n",
    "    cax.get_xaxis().set_visible(False)\n",
    "    cax.get_yaxis().set_visible(False)\n",
    "    cax.set_facecolor('black')\n",
    "\n",
    "    at = AnchoredText(q6_idx, loc=10, \n",
    "                      prop=dict(backgroundcolor='black',\n",
    "                                size=12, color='white', weight='bold'))\n",
    "    cax.add_artist(at)\n",
    "    \n",
    "ax[-1][0].set_xticklabels(q24_order, fontfamily='serif', rotation=90)\n",
    "ax[-1][1].set_xticklabels(q24_order, fontfamily='serif', rotation=90)\n",
    "ax[-1][-1].set_visible(False)\n",
    "\n",
    "fig.suptitle('Experience & Earn Distribution', fontsize=17, fontweight='bold', fontfamily='serif', y=1.03)\n",
    "\n",
    "plt.tight_layout()\n",
    "# plt.subplots_adjust(hspace=0.25)\n",
    "plt.show()"
   ]
  },
  {
   "cell_type": "code",
   "execution_count": null,
   "metadata": {},
   "outputs": [],
   "source": []
  }
 ],
 "metadata": {
  "kernelspec": {
   "display_name": "Python 3",
   "language": "python",
   "name": "python3"
  },
  "language_info": {
   "codemirror_mode": {
    "name": "ipython",
    "version": 3
   },
   "file_extension": ".py",
   "mimetype": "text/x-python",
   "name": "python",
   "nbconvert_exporter": "python",
   "pygments_lexer": "ipython3",
   "version": "3.8.3"
  },
  "toc": {
   "base_numbering": 1,
   "nav_menu": {},
   "number_sections": true,
   "sideBar": true,
   "skip_h1_title": false,
   "title_cell": "Table of Contents",
   "title_sidebar": "Contents",
   "toc_cell": false,
   "toc_position": {},
   "toc_section_display": true,
   "toc_window_display": false
  }
 },
 "nbformat": 4,
 "nbformat_minor": 4
}
