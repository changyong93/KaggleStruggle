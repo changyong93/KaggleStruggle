{
  "nbformat": 4,
  "nbformat_minor": 0,
  "metadata": {
    "colab": {
      "name": "210527 programmer_Lev2.ipynb",
      "private_outputs": true,
      "provenance": [],
      "toc_visible": true,
      "authorship_tag": "ABX9TyMcgxzZ5RMO1YrfbbYHPEH9",
      "include_colab_link": true
    },
    "kernelspec": {
      "name": "python3",
      "display_name": "Python 3"
    },
    "language_info": {
      "name": "python"
    }
  },
  "cells": [
    {
      "cell_type": "markdown",
      "metadata": {
        "id": "view-in-github",
        "colab_type": "text"
      },
      "source": [
        "<a href=\"https://colab.research.google.com/github/changyong93/KaggleStruggle/blob/main/210527_programmer_Lev2.ipynb\" target=\"_parent\"><img src=\"https://colab.research.google.com/assets/colab-badge.svg\" alt=\"Open In Colab\"/></a>"
      ]
    },
    {
      "cell_type": "markdown",
      "metadata": {
        "id": "hgDdOEjiVrJO"
      },
      "source": [
        "## 멀쩡한 사각형"
      ]
    },
    {
      "cell_type": "code",
      "metadata": {
        "id": "7bIjyoeZVxdQ"
      },
      "source": [
        "def gcd(w,h):\n",
        "    if w >= h:\n",
        "        while h != 0:\n",
        "            w,h = h, w%h\n",
        "        return w\n",
        "\n",
        "    else:\n",
        "        while w != 0:\n",
        "            h,w = w, h%w\n",
        "        return h\n",
        "\n",
        "def solution(w,h):\n",
        "    return w*h - w - h + gcd(w,h)"
      ],
      "execution_count": null,
      "outputs": []
    },
    {
      "cell_type": "code",
      "metadata": {
        "id": "P840zkKWiSfI"
      },
      "source": [
        "def gcd(w,h):\n",
        "    if w > h:\n",
        "        while h !=0:\n",
        "            w, h = h, w%h\n",
        "        return w\n",
        "    else:\n",
        "        while w != 0:\n",
        "            h, w = w, h%w\n",
        "        return h\n",
        "\n",
        "\n",
        "def solution(w,h):\n",
        "    return w*h -(w+h) + gcd(w,h)\n",
        "solution(8,12)"
      ],
      "execution_count": null,
      "outputs": []
    },
    {
      "cell_type": "markdown",
      "metadata": {
        "id": "xvMnS8bBlKRZ"
      },
      "source": [
        "---\n",
        "### 다른 사람풀이(1)\n",
        "- 구하는 방식은 동일했지만, gcd를 조금 더 간결하게 작성\n",
        "- 나 같은 경우, 가로 세로 길이 중 긴 것을 기준으로 gcd를 구하게 했지만, 아래 풀이의 경우는, 가로 or 세로가 0이 될 때까지 바꿔가면서 연산하기에 고려할 필요 없음"
      ]
    },
    {
      "cell_type": "code",
      "metadata": {
        "id": "xkdeTXqolWem"
      },
      "source": [
        "def gcd(a,b): return b if a == 0 else gcd(b%a, a)\n",
        "def solution(w,h): return w*h -(w+h) + gcd(w,h)\n",
        "solution(12,8)"
      ],
      "execution_count": null,
      "outputs": []
    },
    {
      "cell_type": "markdown",
      "metadata": {
        "id": "bnWBKHALl0wC"
      },
      "source": [
        "---\n",
        "### 다른 사람풀이(2)\n",
        "- math library의 gcd 함수 사용"
      ]
    },
    {
      "cell_type": "code",
      "metadata": {
        "id": "bPMyy2T4l-eo"
      },
      "source": [
        "from math import gcd\n",
        "def solution(w,h): return w*h - w - h + gcd(w,h)\n",
        "solution(12,8)"
      ],
      "execution_count": null,
      "outputs": []
    },
    {
      "cell_type": "markdown",
      "metadata": {
        "id": "2mGdMQWxGxCj"
      },
      "source": [
        "## 124 나라의 숫자"
      ]
    },
    {
      "cell_type": "code",
      "metadata": {
        "id": "lJs-zGylG4QD"
      },
      "source": [
        "def solution(n):\n",
        "  answer = ''\n",
        "  while n > 0:\n",
        "    remainder = n % 3\n",
        "    n = n//3\n",
        "    if remainder == 0:\n",
        "      answer = \"4\" + answer\n",
        "      n -= 1\n",
        "    else:\n",
        "      answer = str(remainder) + answer\n",
        "  return answer\n",
        "solution(12)"
      ],
      "execution_count": null,
      "outputs": []
    },
    {
      "cell_type": "markdown",
      "metadata": {
        "id": "K_NtdASVUC-Y"
      },
      "source": [
        "---\n",
        "### 다른 사람 풀이(1)"
      ]
    },
    {
      "cell_type": "code",
      "metadata": {
        "id": "0OZRGB4CSkeO"
      },
      "source": [
        "def solution(n):\n",
        "  num = ['1','2','4']\n",
        "  answer = ''\n",
        "\n",
        "  while n != 0:\n",
        "    n -= 1\n",
        "    answer = num[n%3] + answer\n",
        "    n //= 3\n",
        "  return answer\n",
        "solution(12)"
      ],
      "execution_count": null,
      "outputs": []
    },
    {
      "cell_type": "markdown",
      "metadata": {
        "id": "Dd5LI9PVW_P4"
      },
      "source": [
        "### 다른 사람 풀이(2)"
      ]
    },
    {
      "cell_type": "code",
      "metadata": {
        "id": "EN4UchabXCLh"
      },
      "source": [
        "def solution(n):\n",
        "  answer = ''\n",
        "\n",
        "  while n !=0:\n",
        "    n,r = divmod(n-1,3)\n",
        "    answer = '124'[r] + answer\n",
        "  return answer\n",
        "solution(12)"
      ],
      "execution_count": null,
      "outputs": []
    },
    {
      "cell_type": "markdown",
      "metadata": {
        "id": "2zWhqyr-YdiJ"
      },
      "source": [
        "---\n",
        "### 다른 사람 풀이(3)\n",
        "- n!=인 경우 412[n%3] 값이 뒤에 붙음\n",
        "- ex) n이 112인 경우,\n",
        "\n",
        "sol(12)\n",
        "= sol((12-1)//3) + '412'[12%3]  \n",
        "= sol(3) + '4'  \n",
        "=  sol((3-1)//3) + 412[3%3] + '4'  \n",
        "= sol(0) + '4' + '4'  \n",
        "= '' + '4' + '4'  \n",
        "= '44'  "
      ]
    },
    {
      "cell_type": "code",
      "metadata": {
        "id": "6kbIEfF0YGrT"
      },
      "source": [
        "def solution(n):\n",
        "  return '' if n == 0 else solution((n-1)//3) + '412'[n%3]\n",
        "solution(14)"
      ],
      "execution_count": null,
      "outputs": []
    },
    {
      "cell_type": "markdown",
      "metadata": {
        "id": "CmJIoM5AeOrN"
      },
      "source": [
        "## 짝지어 제거하기(스택)\n",
        "\n"
      ]
    },
    {
      "cell_type": "code",
      "metadata": {
        "id": "-yrJgRxXbT6K"
      },
      "source": [
        "def solution(s):\n",
        "    stack = []\n",
        "    for a in s:\n",
        "        if stack: # stack이 빈 list가 아닐 경우\n",
        "            if stack[-1] == a:\n",
        "                stack.pop()\n",
        "            else:\n",
        "                stack.append(a)\n",
        "        else:\n",
        "            stack.append(a)\n",
        "\n",
        "    return 1 if len(stack) == 0 else 0\n",
        "\n",
        "solution('ssabba')"
      ],
      "execution_count": null,
      "outputs": []
    },
    {
      "cell_type": "code",
      "metadata": {
        "id": "bbuJY5SUqcH_"
      },
      "source": [
        "def solution(s):\n",
        "    stack = []\n",
        "    for a in s:\n",
        "        if not(stack): # stack이 빈 list일 경우\n",
        "            stack.append(a)\n",
        "            continue\n",
        "        if stack[-1] == a:\n",
        "            stack.pop()\n",
        "        else:\n",
        "            stack.append(a)\n",
        "        \n",
        "    return 1 if len(stack) == 0 else 0\n",
        "\n",
        "solution('ssabba')"
      ],
      "execution_count": null,
      "outputs": []
    },
    {
      "cell_type": "markdown",
      "metadata": {
        "id": "Up78GkbaySzj"
      },
      "source": [
        "## 기능개발(스택/큐)  \n",
        "https://devuna.tistory.com/22"
      ]
    },
    {
      "cell_type": "code",
      "metadata": {
        "id": "pbyaT6elyVfW"
      },
      "source": [
        "def solution(progresses, speeds):\n",
        "    answer = []\n",
        "    \n",
        "    i = 0 # progress\n",
        "    k = 0\n",
        "    days = 0\n",
        "    while i+1 <=len(progresses):\n",
        "        if progresses[i] + days*speeds[i] >= 100:\n",
        "            # print(progresses[i],days*speeds[i])\n",
        "            i += 1\n",
        "            k += 1\n",
        "            # print(\"누적  k: \", k)\n",
        "        else:\n",
        "            days += 1\n",
        "            if k > 0:\n",
        "                # print(\"append K: \", k)\n",
        "                answer.append(k)\n",
        "                k = 0\n",
        "    if k > 0:\n",
        "      answer.append(k)\n",
        "                \n",
        "    return answer\n",
        "# solution([93, 30, 55],\t[1, 30, 5])\n",
        "solution([95, 90, 99, 99, 80, 99],[1,1,1,1,1,1])"
      ],
      "execution_count": null,
      "outputs": []
    },
    {
      "cell_type": "markdown",
      "metadata": {
        "id": "ZCxNlLRp27ZF"
      },
      "source": [
        "---\n",
        "### 다른 사람 풀이(1)\n",
        "- zip을 이용하여 연관된 progress와 speed를 동시에 출력"
      ]
    },
    {
      "cell_type": "code",
      "metadata": {
        "id": "IR-SKjRR4hkX"
      },
      "source": [
        "def solution(progresses, speeds):\n",
        "  Q = []\n",
        "  for p,s in zip(progresses, speeds):\n",
        "    if not(Q) or Q[-1][0] < (100-p)/s:\n",
        "      Q.append([(100-p)/s, 1])\n",
        "    else:\n",
        "      Q[-1][1] += 1\n",
        "  return [q[1] for q in Q]\n",
        "# solution([93, 30, 55],\t[1, 30, 5])\n",
        "solution([95, 90, 99, 99, 80, 99],[1,1,1,1,1,1])"
      ],
      "execution_count": null,
      "outputs": []
    },
    {
      "cell_type": "code",
      "metadata": {
        "id": "lTNuU_On6NV7"
      },
      "source": [
        "from math import ceil\n",
        "def solution(progresses, speeds):\n",
        "    daysLeft = list(map(lambda x : (ceil((100-progresses[x])/speeds[x])), range(len(progresses))))\n",
        "\n",
        "    count = 1\n",
        "    answer = []\n",
        "\n",
        "    for i in range(len(daysLeft)):\n",
        "        try:\n",
        "            if daysLeft[i] < daysLeft[i+1]:\n",
        "                answer.append(count)\n",
        "                count = 1\n",
        "            else:\n",
        "                daysLeft[i+1] = daysLeft[i]\n",
        "                count += 1\n",
        "        except:\n",
        "            answer.append(count)\n",
        "    return answer\n",
        "\n",
        "\n",
        "# solution([93, 30, 55],[1,30,5])\n",
        "solution([95, 90, 99, 99, 80, 99],[1,1,1,1,1,1])"
      ],
      "execution_count": null,
      "outputs": []
    },
    {
      "cell_type": "markdown",
      "metadata": {
        "id": "g_Cdh9mg_7ve"
      },
      "source": [
        "## 더 맵게(힙,Heap)  \n",
        "- https://gmlwjd9405.github.io/2018/05/10/data-structure-heap.html\n",
        "- https://www.daleseo.com/python-heapq/"
      ]
    },
    {
      "cell_type": "code",
      "metadata": {
        "id": "qYKR71p3FgWa"
      },
      "source": [
        "import heapq\n",
        "def solution(scoviile, k):\n",
        "    \n",
        "    cnt = 0\n",
        "    heapq.heapify(scoviile)\n",
        "    \n",
        "    while len(scoviile) >= 2:\n",
        "        if scoviile[0] < k:\n",
        "            tmp = heapq.heappop(scoviile) + heapq.heappop(scoviile)*2\n",
        "            heapq.heappush(scoviile, tmp)\n",
        "            cnt += 1\n",
        "        else:\n",
        "            return cnt\n",
        "    return cnt if scoviile[0] >=k else -1\n",
        "    \n",
        "\n",
        "solution(\t[0, 0, 3, 9, 10, 12], 7000)"
      ],
      "execution_count": null,
      "outputs": []
    },
    {
      "cell_type": "markdown",
      "metadata": {
        "id": "FQhom_7oL0bO"
      },
      "source": [
        "---\n",
        "### 다른 사람 풀이(1)\n",
        "- 이진 분할을 통한 계산 범위 서치, bisect"
      ]
    },
    {
      "cell_type": "code",
      "metadata": {
        "id": "AEn3Pzt4b3XZ"
      },
      "source": [
        "import bisect, heapq\n",
        "\n",
        "def solution(scoville,k):\n",
        "  heapq.heapify(scoville)\n",
        "  answer = 0\n",
        "  mild_food = heapq.nsmallest(bisect.bisect(scoville, k)+1, scoville)\n",
        "\n",
        "  while len(mild_food) >= 2:\n",
        "    if mild_food[0] >= k:\n",
        "      return answer\n",
        "    else:\n",
        "      heapq.heappush(mild_food, heapq.heappop(mild_food) + heapq.heappop(mild_food)*2)\n",
        "      answer += 1\n",
        "  \n",
        "  return answer if mild_food[0] >= k else -1\n",
        "\n",
        "solution(\t[0, 0, 3, 9, 10, 12], 7000)"
      ],
      "execution_count": null,
      "outputs": []
    },
    {
      "cell_type": "markdown",
      "metadata": {
        "id": "l-Zig42Udqtd"
      },
      "source": [
        "## 오픈채팅방"
      ]
    },
    {
      "cell_type": "code",
      "metadata": {
        "id": "omC0H7UvA486"
      },
      "source": [
        "def solution(record):\n",
        "    user_dict = {}\n",
        "        \n",
        "    for record_ in record:\n",
        "        if record_.split()[0] == \"Enter\" or record_.split()[0] == \"Change\":\n",
        "            user_dict[record_.split()[1]] = record_.split()[2]\n",
        "             \n",
        "    \n",
        "    answer = []\n",
        "    for record_ in record:\n",
        "        if record_.split()[0] == \"Enter\":\n",
        "            sen = f\"{user_dict[record_.split()[1]]}님이 들어왔습니다.\"\n",
        "            answer.append(sen)\n",
        "        elif record_.split()[0] == \"Leave\":\n",
        "            sen = f\"{user_dict[record_.split()[1]]}님이 나갔습니다.\"\n",
        "            answer.append(sen)\n",
        "    return answer\n",
        "\n",
        "record = [\"Enter uid1234 Muzi\",\"Enter uid4567 Prodo\",\"Leave uid1234\",\n",
        "          \"Enter uid1234 Prodo\",\"Change uid4567 Ryan\"]\n",
        "print(solution(record))"
      ],
      "execution_count": null,
      "outputs": []
    },
    {
      "cell_type": "markdown",
      "metadata": {
        "id": "BGIMgXp0DK72"
      },
      "source": [
        "---\n",
        "### 다른 사람 풀이(1)"
      ]
    },
    {
      "cell_type": "code",
      "metadata": {
        "id": "bk5kwskdDNrI"
      },
      "source": [
        "def solution(record):\n",
        "  user_id = {record_.split()[1] : record_.split()[2] for record_ in record if record_.split()[0] in [\"Enter\", \"Change\"]}\n",
        "  return [ user_id[record_.split()[1]] + \"님이 들어왔습니다.\" if record_.split()[0] == \"Enter\" else user_id[record_.split()[1]] + \"님이 나갔습니다.\" for record_ in record if record_.split()[0] != \"Change\"]\n",
        "\n",
        "record = [\"Enter uid1234 Muzi\",\"Enter uid4567 Prodo\",\"Leave uid1234\",\n",
        "          \"Enter uid1234 Prodo\",\"Change uid4567 Ryan\"]\n",
        "print(solution(record))"
      ],
      "execution_count": null,
      "outputs": []
    },
    {
      "cell_type": "markdown",
      "metadata": {
        "id": "iZUkkizQMDe0"
      },
      "source": [
        "## 문자열 압축"
      ]
    },
    {
      "cell_type": "code",
      "metadata": {
        "id": "f3cfQFc5MGBH"
      },
      "source": [
        "def solution(s):\n",
        "    max_len = len(s)\n",
        "    answer = len(s)\n",
        "    \n",
        "    \n",
        "    for comp_size in range(1,int(max_len/2)+1):\n",
        "        splitted = [s[i:i+comp_size] for i in range(0,max_len, comp_size)]\n",
        "        \n",
        "        cnt = 1\n",
        "        compressed = ''\n",
        "        for j in range(len(splitted)-1):\n",
        "            pre, cur = splitted[j], splitted[j+1]\n",
        "            if pre == cur:\n",
        "                cnt += 1\n",
        "            else:\n",
        "                compressed += str(cnt) + pre if cnt > 1 else pre\n",
        "                cnt = 1\n",
        "        compressed += str(cnt) + cur if cnt > 1 else cur\n",
        "        print(splitted,compressed, len(compressed))\n",
        "        answer = len(compressed) if len(compressed) < answer else answer\n",
        "        \n",
        "    return answer\n",
        "s = \"abcabcabcabcdededededede\"\n",
        "solution(s)"
      ],
      "execution_count": null,
      "outputs": []
    }
  ]
}